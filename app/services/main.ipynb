{
 "cells": [
  {
   "cell_type": "code",
   "execution_count": null,
   "metadata": {},
   "outputs": [
    {
     "name": "stdout",
     "output_type": "stream",
     "text": [
      "✅ Successfully found problem id 1\n"
     ]
    }
   ],
   "source": [
    "import httpx\n",
    "import os\n",
    "from dotenv import load_dotenv\n",
    "\n",
    "load_dotenv()\n",
    "\n",
    "def find_problem(problem_id: int):\n",
    "    api_url = f'{os.getenv(\"DOCKER_API_BASE_URL\")}/problems/{problem_id}' if os.path.exists('/.dockerenv') else f'{os.getenv(\"API_BASE_URL\")}/problems/{problem_id}'\n",
    "    headers = { 'Content-Type': 'application/json' }\n",
    "    try:\n",
    "        response = httpx.get(api_url, headers=headers)\n",
    "        if 200 <= response.status_code < 300:\n",
    "            print(f'✅ Successfully found problem id {problem_id}')\n",
    "            return response.json()\n",
    "        else:\n",
    "            print(f'❌ Failed to get problem id {problem_id} with status code {response.status_code}')\n",
    "\n",
    "    except httpx.RequestError as e:\n",
    "        print(f'🚨 Error sending request: {e}')\n",
    "\n",
    "problem_data = find_problem(1)\n",
    "\n",
    "user_submission = '''\n",
    "    Use recursion to count all possible ways\n",
    "    At each step, either take 1 step or 2 steps\n",
    "    The base case is when n is 0 or 1\n",
    "    Then, return the sum of the ways for n-1 and n-2\n",
    "'''\n",
    "\n",
    "prompt = f'''\n",
    "    You are a **professor specializing in coding problems**. The user will describe their approach to solving a problem, and you will **analyze their response and provide structured feedback**.\n",
    "\n",
    "    ### Instructions:\n",
    "    - Provide a **concise analysis** (one paragraph).\n",
    "    - List **improvement suggestions** (bullet format).\n",
    "    - Assign a **score** as an integer:\n",
    "    - **1** → Incorrect approach.\n",
    "    - **2** → Partially correct approach.\n",
    "    - **3** → Correct approach.\n",
    "    - **Talk directly to the user using \"you\" instead of referring to them in the third person.**\n",
    "    - **Follow the exact format in the \"Expected Output\" section. Do not change the order.**\n",
    "\n",
    "    ### Problem Details:\n",
    "    **Title:** {problem_data['title']}\n",
    "    **Difficulty:** {problem_data['difficulty']}\n",
    "    **Description:** {problem_data['description']}\n",
    "    **Constraints:** {''.join([f'{constraint}' for constraint in problem_data['constraints']])}\n",
    "    **Examples:** {chr(10).join([f'Input: {example['input']}, Output: {example['output']}, Explanation: {example['explanation']}' for example in problem_data['examples']])}\n",
    "    \n",
    "    ### User Submission: {user_submission}\n",
    "\n",
    "    ### **Expected Output (Follow This Exactly)**\n",
    "    **Analysis:**  \n",
    "    <One-paragraph analysis of the user's approach>  \n",
    "\n",
    "    **Suggestions:**  \n",
    "    - <Bullet point suggestions>  \n",
    "\n",
    "    **Score:** <Integer (1, 2, or 3)>\n",
    "'''\n",
    "\n",
    "# print(prompt)\n"
   ]
  },
  {
   "cell_type": "code",
   "execution_count": null,
   "metadata": {},
   "outputs": [
    {
     "name": "stdout",
     "output_type": "stream",
     "text": [
      "<think>\n",
      "Okay, let's break down the user's approach to solving the Climbing Stairs problem. The user suggests using recursion where at each step you can take either one or two steps. They mention that the base cases are when n is 0 or 1, and then return the sum of the ways for n-1 and n-2.\n",
      "\n",
      "Hmm, I remember that this problem is a classic example of dynamic programming because it has overlapping subproblems. The recursive approach they mentioned would work in theory but might not be efficient for larger values of n due to repeated calculations. For instance, if n is 45, the recursion could lead to a lot of redundant calls, making the solution very slow.\n",
      "\n",
      "Wait, the user's idea is correct in terms of the logic because each step can indeed be broken down into smaller subproblems where you add the ways from n-1 and n-2. That aligns with the dynamic programming approach. So their approach is conceptually right but might have performance issues without memoization or an iterative method.\n",
      "\n",
      "I should consider if they're aware of these inefficiencies. They didn't mention anything about optimizing, so maybe that's where improvement is needed. Perhaps suggesting an iterative solution or using memoization in recursion would make the solution more efficient.\n",
      "\n",
      "In terms of the score, since their approach is correct but could be optimized, I'd give it a 3 because the logic is right but lacks some optimizations for better performance.\n",
      "</think>\n",
      "\n",
      "Analysis:  \n",
      "The user's approach correctly identifies that the problem can be solved using recursion with overlapping subproblems. However, the solution will be highly inefficient for larger values of n due to redundant calculations without memoization or dynamic programming optimization. The base case handling is correct (returning 1 when n=0 or n=1), and the recursive formula (f(n) = f(n-1) + f(n-2)) accurately captures all possible ways to climb the stairs.\n",
      "\n",
      "Suggestions:\n",
      "- Consider using an iterative approach with memoization or dynamic programming to optimize performance for larger n.\n",
      "- Add memoization to the recursive solution to avoid redundant calculations and improve efficiency.\n",
      "- Test the solution for edge cases, such as n=0 (if allowed) and very large n values like 45, to ensure it handles them correctly.\n",
      "\n",
      "Score: 3\n"
     ]
    }
   ],
   "source": [
    "from ollama import Client\n",
    "\n",
    "# Must have ollama on in the background\n",
    "def ask_model(prompt: str):\n",
    "    try:\n",
    "        response = Client().generate(model='deepseek-r1:8b', prompt=prompt)\n",
    "        print(response['response'])\n",
    "    except Exception as e:\n",
    "        print(f'🚨 Error: {e}')\n",
    "\n",
    "ask_model(prompt)\n"
   ]
  }
 ],
 "metadata": {
  "kernelspec": {
   "display_name": ".venv",
   "language": "python",
   "name": "python3"
  },
  "language_info": {
   "codemirror_mode": {
    "name": "ipython",
    "version": 3
   },
   "file_extension": ".py",
   "mimetype": "text/x-python",
   "name": "python",
   "nbconvert_exporter": "python",
   "pygments_lexer": "ipython3",
   "version": "3.13.1"
  }
 },
 "nbformat": 4,
 "nbformat_minor": 2
}
