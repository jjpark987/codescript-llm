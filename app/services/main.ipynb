{
 "cells": [
  {
   "cell_type": "code",
   "execution_count": null,
   "metadata": {},
   "outputs": [
    {
     "name": "stdout",
     "output_type": "stream",
     "text": [
      "✅ Successfully found problem id 1\n"
     ]
    }
   ],
   "source": [
    "import httpx\n",
    "import os\n",
    "from dotenv import load_dotenv\n",
    "\n",
    "load_dotenv()\n",
    "\n",
    "def find_problem(problem_id: int):\n",
    "    api_url = f'{os.getenv(\"DOCKER_API_BASE_URL\")}/problems/{problem_id}' if os.path.exists('/.dockerenv') else f'{os.getenv(\"API_BASE_URL\")}/problems/{problem_id}'\n",
    "    headers = { 'Content-Type': 'application/json' }\n",
    "    try:\n",
    "        response = httpx.get(api_url, headers=headers)\n",
    "        if 200 <= response.status_code < 300:\n",
    "            print(f'✅ Successfully found problem id {problem_id}')\n",
    "            return response.json()\n",
    "        else:\n",
    "            print(f'❌ Failed to get problem id {problem_id} with status code {response.status_code}')\n",
    "\n",
    "    except httpx.RequestError as e:\n",
    "        print(f'❌ Error sending request to codescript-backend: {e}')\n",
    "\n",
    "problem_data = find_problem(1)\n",
    "\n",
    "user_submission = '''\n",
    "    Use recursion to count all possible ways\n",
    "    At each step, either take 1 step or 2 steps\n",
    "    The base case is when n is 0 or 1\n",
    "    Then, return the sum of the ways for n-1 and n-2\n",
    "'''\n",
    "\n",
    "prompt = f'''\n",
    "    You are a **professor specializing in coding problems**. I will describe my approach to solving a problem, and you will **analyze my response and provide structured feedback to me**.\n",
    "\n",
    "    ### Instructions:\n",
    "    - Provide a **concise analysis** (one paragraph).\n",
    "    - List **improvement suggestions** (bullet format).\n",
    "    - Assign a **score** as an integer:\n",
    "    - **1** → Incorrect approach.\n",
    "    - **2** → Partially correct approach.\n",
    "    - **3** → Correct approach.\n",
    "    - **Follow the exact format in the \"Expected Output\" section. Do not change the order.**\n",
    "\n",
    "    ### Problem Details:\n",
    "    **Title:** {problem_data['title']}\n",
    "    **Difficulty:** {problem_data['difficulty']}\n",
    "    **Description:** {problem_data['description']}\n",
    "    **Constraints:** {''.join([f'{constraint}' for constraint in problem_data['constraints']])}\n",
    "    **Examples:** {chr(10).join([f'Input: {example['input']}, Output: {example['output']}, Explanation: {example['explanation']}' for example in problem_data['examples']])}\n",
    "    \n",
    "    ### My Submission: {user_submission}\n",
    "\n",
    "    ### **Expected Output (Follow This Exactly)**\n",
    "    **Analysis:**  \n",
    "    <One-paragraph analysis of my approach>  \n",
    "\n",
    "    **Suggestions:**  \n",
    "    - <Bullet point suggestions>  \n",
    "\n",
    "    **Score:** <Integer (1, 2, or 3)>\n",
    "'''\n",
    "\n",
    "# print(prompt)\n"
   ]
  },
  {
   "cell_type": "code",
   "execution_count": 15,
   "metadata": {},
   "outputs": [
    {
     "name": "stdout",
     "output_type": "stream",
     "text": [
      "<think>\n",
      "Okay, so I'm trying to solve this problem where I need to find the number of distinct ways someone can climb a staircase with n steps. Each time, they can take either 1 or 2 steps. My approach was to use recursion because it seemed like a natural fit for breaking down the problem into smaller subproblems.\n",
      "\n",
      "Let me think about how my solution works. For any step n, the number of ways to get there would be the sum of the ways to get to n-1 and n-2. That makes sense because if you're at step n-1, you can take one more step, and if you're at step n-2, you can take two steps from there. So for example, when n is 2, it's just 1 way (take both steps) plus another way (two single steps), totaling 2 ways. For n=3, it would be the ways to get to 2 plus the ways to get to 1, which gives us 2+1=3.\n",
      "\n",
      "The base cases are when n is 0 or 1. I considered them correctly because there's only one way to stay at the ground level (do nothing) and one way to climb a single step. So that part seems solid.\n",
      "\n",
      "However, while this approach solves the problem correctly for small values of n, I'm worried about efficiency. For larger values like up to 45 steps, recursion would lead to a lot of repeated calculations. Each call to the function branches out into two more calls, leading to exponential time complexity. This could be really slow and might even cause stack overflow issues.\n",
      "\n",
      "Another thing is that there's no memoization or dynamic programming involved in my solution. So if someone were to input n=45, it would take an impractically long time because the same subproblems are solved multiple times over. I should probably think about using a bottom-up approach with DP or adding memoization to cache results and avoid redundant calculations.\n",
      "\n",
      "I remember seeing similar problems where people use iterative methods or dynamic programming to solve this efficiently. Maybe in my next attempt, after thinking it through again, I can implement an iterative solution that runs in linear time and uses constant space.\n",
      "</think>\n",
      "\n",
      "**Analysis:**  \n",
      "The approach correctly identifies the recursive relationship where the number of ways to reach step n is the sum of the ways to reach steps n-1 and n-2. The base cases are appropriately handled for n=0 and n=1, ensuring correct results for these values.\n",
      "\n",
      "**Suggestions:**  \n",
      "- Consider implementing memoization or dynamic programming for larger values of n to improve efficiency.\n",
      "- Explore an iterative solution that avoids redundant calculations and has better performance characteristics.\n",
      "\n",
      "**Score:** 3\n"
     ]
    }
   ],
   "source": [
    "from ollama import Client\n",
    "\n",
    "# Must have ollama on in the background\n",
    "def ask_model(prompt: str):\n",
    "    try:\n",
    "        response = Client().generate(model='deepseek-r1:7b', prompt=prompt)\n",
    "        print(response['response'])\n",
    "    except Exception as e:\n",
    "        print(f'❌ Error sending request to ollama client: {e}')\n",
    "\n",
    "ask_model(prompt)\n"
   ]
  }
 ],
 "metadata": {
  "kernelspec": {
   "display_name": ".venv",
   "language": "python",
   "name": "python3"
  },
  "language_info": {
   "codemirror_mode": {
    "name": "ipython",
    "version": 3
   },
   "file_extension": ".py",
   "mimetype": "text/x-python",
   "name": "python",
   "nbconvert_exporter": "python",
   "pygments_lexer": "ipython3",
   "version": "3.13.2"
  }
 },
 "nbformat": 4,
 "nbformat_minor": 2
}
