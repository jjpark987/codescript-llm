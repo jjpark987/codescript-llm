{
 "cells": [
  {
   "cell_type": "code",
   "execution_count": 90,
   "metadata": {},
   "outputs": [
    {
     "name": "stdout",
     "output_type": "stream",
     "text": [
      "✅ Successfully found problem id 1\n"
     ]
    }
   ],
   "source": [
    "import httpx\n",
    "import os\n",
    "from dotenv import load_dotenv\n",
    "\n",
    "load_dotenv()\n",
    "\n",
    "def find_problem(problem_id: int):\n",
    "    api_url = f'{os.getenv(\"DOCKER_API_BASE_URL\")}/problems/{problem_id}' if os.path.exists('/.dockerenv') else f'{os.getenv(\"API_BASE_URL\")}/problems/{problem_id}'\n",
    "    headers = { 'Content-Type': 'application/json' }\n",
    "    try:\n",
    "        response = httpx.get(api_url, headers=headers)\n",
    "        if 200 <= response.status_code < 300:\n",
    "            print(f'✅ Successfully found problem id {problem_id}')\n",
    "            return response.json()\n",
    "        else:\n",
    "            print(f'❌ Failed to get problem id {problem_id} with status code {response.status_code}')\n",
    "\n",
    "    except httpx.RequestError as e:\n",
    "        print(f'❌ Error sending request to codescript-backend: {e}')\n",
    "\n",
    "problem_data = find_problem(1)\n",
    "\n",
    "user_submission = '''\n",
    "    I will solve this problem using recursion, where ways(n) = ways(n-1) + ways(n-2). The base cases are ways(1) = 1 and ways(2) = 2.\n",
    "'''\n",
    "\n",
    "prompt = f'''\n",
    "    ### System Instructions:\n",
    "    You do not remember any past conversations. Treat this as a completely new session with no prior knowledge.\n",
    "\n",
    "    ### Scenario:\n",
    "    You are my professor specializing in coding problems. I will describe my submission for solving a problem, and you will analyze and provide structured feedback on my submission to a valid solution. Respond to me like a human, using \"you\" instead of \"the user.\"\n",
    "\n",
    "    ### My Submission (FOCUS ON THIS AND PROVIDE FEEDBACK): \n",
    "    {user_submission}\n",
    "\n",
    "    ### Instructions:\n",
    "    - **STOP**. Read and evaluate my submission before doing anything else. Your only purpose is to analyze my submission.\n",
    "    - If my submission does not attempt to solve the problem, is unrelated to solving the problem, or tells you \"I don't know\", explicitly state that in the analysis, provide two starting suggestions, score it as 1, and **skip Problem Details.**\n",
    "    - DO NOT generate explanations, reasoning, or additional insights beyond what is explicitly written in my submission.\n",
    "\n",
    "    ### Expected Output (FOLLOW THIS EXACTLY):\n",
    "    Analysis: \n",
    "        <Provide feedback on my submission in full sentences if related; otherwise, explicitly state that my submission is unrelated> \n",
    "    Suggestions: \n",
    "        - <Bullet point suggestions if related; otherwise, provide two general starting points>\n",
    "    Score: \n",
    "        <\n",
    "            Integer 1, 2, or 3:\n",
    "            3 → The submission is valid within given constraints.\n",
    "            2 → The submission is technically valid but inefficient for larger constraints or needs improvements.\n",
    "            1 → The submission is fundamentally incorrect or is unrelated to solving coding problems.\n",
    "        >\n",
    "     \n",
    "    ### Problem Details (FOR REFERENCE ONLY, IGNORE THIS IF MY SUBMISSION IS UNRELATED):\n",
    "    Title: {problem_data['title']}\n",
    "    Description: {problem_data['description']}\n",
    "    Constraints: {''.join([f'{constraint}' for constraint in problem_data['constraints']])}\n",
    "    Examples: {chr(10).join([f'Input: {example['input']}, Output: {example['output']}, Explanation: {example['explanation']}' for example in problem_data['examples']])}\n",
    "'''\n",
    "\n",
    "# print(prompt)\n"
   ]
  },
  {
   "cell_type": "code",
   "execution_count": 91,
   "metadata": {},
   "outputs": [],
   "source": [
    "from ollama import Client\n",
    "\n",
    "def ask_model(prompt: str):\n",
    "    try:\n",
    "        response = Client().generate(model='deepseek-r1:7b', prompt=prompt)\n",
    "        return response['response']\n",
    "    except Exception as e:\n",
    "        print(f'❌ Error sending request to ollama client: {e}')\n",
    "\n",
    "response = ask_model(prompt)\n"
   ]
  },
  {
   "cell_type": "code",
   "execution_count": 92,
   "metadata": {},
   "outputs": [
    {
     "name": "stdout",
     "output_type": "stream",
     "text": [
      "{'analysis': 'The submission correctly implements a recursive approach based on the Fibonacci sequence for calculating the number of distinct ways to climb stairs. However, this naive implementation is inefficient due to redundant calculations and does not handle larger values of n efficiently.', 'suggestions': ['Implement memoization or dynamic programming to store previously computed values to avoid recalculating them.', 'Consider an iterative approach if recursion becomes too slow, especially for larger n within the constraint (up to 45 steps).'], 'score': 2}\n"
     ]
    }
   ],
   "source": [
    "import re\n",
    "\n",
    "def parse_response(response: str) -> dict:\n",
    "    analysis_match = re.search(r'Analysis:\\s*(.*?)(?=\\nSuggestions:)', response, re.DOTALL)\n",
    "    suggestions_match = re.search(r'Suggestions:\\s*(.*?)(?=\\nScore:)', response, re.DOTALL)\n",
    "    score_match = re.search(r'Score:\\s*(\\d+)', response)\n",
    "\n",
    "    analysis = analysis_match.group(1).strip() if analysis_match else None\n",
    "    suggestions = [s.strip('- ') for s in suggestions_match.group(1).strip().split(\"\\n\")] if suggestions_match else []\n",
    "    score = int(score_match.group(1)) if score_match else None\n",
    "\n",
    "    return {\n",
    "        'analysis': analysis,\n",
    "        'suggestions': suggestions,\n",
    "        'score': score\n",
    "    }\n",
    "\n",
    "res = parse_response(response)\n",
    "print(res)\n"
   ]
  }
 ],
 "metadata": {
  "kernelspec": {
   "display_name": ".venv",
   "language": "python",
   "name": "python3"
  },
  "language_info": {
   "codemirror_mode": {
    "name": "ipython",
    "version": 3
   },
   "file_extension": ".py",
   "mimetype": "text/x-python",
   "name": "python",
   "nbconvert_exporter": "python",
   "pygments_lexer": "ipython3",
   "version": "3.13.2"
  }
 },
 "nbformat": 4,
 "nbformat_minor": 2
}
